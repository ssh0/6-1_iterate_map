{
 "metadata": {
  "kernelspec": {
   "codemirror_mode": {
    "name": "ipython",
    "version": 2
   },
   "display_name": "IPython (Python 2)",
   "language": "python",
   "name": "python2"
  },
  "name": "",
  "signature": "sha256:add4cc79bf77dc5e93b11f1b14c21628780da74999caa233b8fd6c5e593816e4"
 },
 "nbformat": 3,
 "nbformat_minor": 0,
 "worksheets": [
  {
   "cells": [
    {
     "cell_type": "heading",
     "level": 1,
     "metadata": {
      "internals": {
       "slide_helper": "subslide_end",
       "slide_type": "subslide"
      },
      "slide_helper": "slide_end",
      "slideshow": {
       "slide_type": "slide"
      }
     },
     "source": [
      "\u8a08\u7b97\u6a5f\u5b9f\u7fd2 \u554f\u984c\uff16\uff0e\uff11 - \u5468\u671f\u500d\u5316"
     ]
    },
    {
     "cell_type": "heading",
     "level": 2,
     "metadata": {
      "internals": {
       "slide_helper": "subslide_end",
       "slide_type": "subslide"
      },
      "slide_helper": "subslide_end",
      "slideshow": {
       "slide_type": "slide"
      }
     },
     "source": [
      "\u30b7\u30df\u30e5\u30ec\u30fc\u30b7\u30e7\u30f3\u306e\u76ee\u7684"
     ]
    },
    {
     "cell_type": "markdown",
     "metadata": {
      "internals": {
       "slide_helper": "subslide_end",
       "slide_type": "subslide"
      },
      "slide_helper": "subslide_end",
      "slideshow": {
       "slide_type": "subslide"
      }
     },
     "source": [
      "\u751f\u7269\u306e\u500b\u4f53\u6570\u306e\u6642\u9593\u767a\u5c55\u306f\u3001\u305d\u306e\u4e16\u4ee3\u4ea4\u4ee3\u304c\u3042\u308b\u6c7a\u307e\u3063\u305f\u5b63\u7bc0\u306b\u8d77\u3053\u308b\u306a\u3069\u3001\u96e2\u6563\u7684\u3067\u3042\u308b\u3068\u898b\u306a\u305b\u308b\u305f\u3081\u3001\u3053\u308c\u3092\u8a18\u8ff0\u3059\u308b\u306e\u306b\u306f\u5fae\u5206\u65b9\u7a0b\u5f0f\u3088\u308a\u3082\u3080\u3057\u308d\u5dee\u5206\u65b9\u7a0b\u5f0f\u306e\u65b9\u304c\u9069\u3057\u3066\u3044\u308b\u3002\u4e16\u4ee3(n+1)\u306e\u500b\u4f53\u6570\u3092\u4e16\u4ee3n\u306e\u500b\u4f53\u6570\u306b\u95a2\u4fc2\u3065\u3051\u3001\u305d\u306e\u6210\u9577\u7387\u304c\u5bc6\u5ea6\u306b\u4f9d\u5b58\u3057\u306a\u3044\u4e00\u756a\u7c21\u5358\u306a\u30e2\u30c7\u30eb\u3092\u8003\u3048\u308b\u3068\u3001\u4e16\u4ee3n\u306e\u500b\u4f53\u6570\u3092$P_{n}$\u3001\u6210\u9577\u7387\u3092$\\alpha$(\u5b9a\u6570)\u3068\u3057\u3066\n",
      "\n",
      "$$P_{n+1}=\\alpha P_{n}$$ \n",
      "\n",
      "\u3068\u66f8\u3051\u308b\u3002\u3053\u308c\u306f\u5927\u5909\u7c21\u5358\u3067\u306f\u3042\u308b\u304c\u3001$\\alpha > 1$\u306e\u3068\u304d\u306b\u500b\u4f53\u6570\u304c\u7b49\u6bd4\u7d1a\u6570\u7684\u306b\u7121\u9650\u306b\u5897\u52a0\u3057\u3066\u3057\u307e\u3046\u3053\u3068\u3068\u3001\u73fe\u5b9f\u306b\u306f\u500b\u4f53\u6570\u306f\u305d\u306e\u74b0\u5883\u306b\u5236\u9650\u3055\u308c\u3066\u3044\u308b\u3053\u3068\u3068\u304b\u3089\u3001\u73fe\u8c61\u3092\u7684\u78ba\u306b\u8868\u3057\u305f\u30e2\u30c7\u30eb\u3068\u306f\u8a00\u3048\u306a\u3044\u3002"
     ]
    },
    {
     "cell_type": "markdown",
     "metadata": {
      "internals": {
       "slide_helper": "subslide_end",
       "slide_type": "subslide"
      },
      "slide_helper": "subslide_end",
      "slideshow": {
       "slide_type": "subslide"
      }
     },
     "source": [
      "\u305d\u3053\u3067\u6b21\u306b\u3001\u6210\u9577\u7387\u304c\u500b\u4f53\u6570\u304c\u5897\u52a0\u3059\u308b\u306b\u3064\u308c\u3066\u7dda\u5f62\u306b\u6e1b\u5c11\u3059\u308b\u5834\u5408\n",
      "\n",
      "\\begin{equation}\n",
      " P_{n+1}=P_{n}(a-bP_{n})\n",
      "\\end{equation}\n",
      "\n",
      "\u3092\u8003\u3048\u308b\u3002\u3053\u306e\u3068\u304d\u3053\u306e\u5f0f\u306f$P_{n}$\u306e2\u4e57\u3092\u542b\u3093\u3067\u3044\u308b\u306e\u3067\u3001\u975e\u7dda\u5f62\u306e\u65b9\u7a0b\u5f0f\u3068\u306a\u308b\u3002$P_{n}=(a/b)x_{n}$\u3068\u7f6e\u304f\u3053\u3068\u3067\u500b\u4f53\u6570\u306e\u30b9\u30b1\u30fc\u30eb\u3092\u5909\u63db\u3057\u3001\n",
      "\n",
      "\\begin{equation}\n",
      " x_{n+1}=ax_{n}\n",
      "\\end{equation}\n",
      "\n",
      "\u3068\u3057\u3066$P_{n}$\u3092$x_{n}$\u306b\u7f6e\u304d\u63db\u3048\u308b\u3068\u3001\u3044\u308d\u3044\u308d\u306a\u30d1\u30e9\u30e1\u30fc\u30bf\u3092\u5b9a\u7fa9\u3057\u3066\u3044\u308b\u5358\u4f4d\u7cfb\u3082\u5909\u63db\u3055\u308c\u308b\u3002"
     ]
    },
    {
     "cell_type": "markdown",
     "metadata": {
      "internals": {
       "slide_type": "subslide"
      },
      "slideshow": {
       "slide_type": "subslide"
      }
     },
     "source": [
      "\u3053\u3053\u3067\u30d1\u30e9\u30e1\u30fc\u30bf$r=a/4$\u3092\u5c0e\u5165\u3057\u3066\u3001\u518d\u3073\u66f8\u304d\u76f4\u3059\u3068\n",
      "\n",
      "$$x_{n+1}=f(x_{n})=4rx_{n}(1-x_{n})$$\n",
      "\n",
      "\u3068\u306a\u308b\u3002\u3053\u308c\u306f\u5358\u4e00\u306e\u30d1\u30e9\u30e1\u30fc\u30bf$r$\u306e\u307f\u3067\u305d\u306e\u52d5\u7684\u306a\u6027\u8cea\u304c\u6c7a\u5b9a\u3055\u308c\u308b\u3068\u3044\u3046\u610f\u5473\u3067\u671b\u307e\u3057\u3044\u30e2\u30c7\u30eb\u3068\u306a\u3063\u3066\u3044\u308b\u3002\u305f\u3060\u3057\u3001$x_{n} > 1$\u306e\u3068\u304d$x_{n+1}$\u306f\u8ca0\u306b\u306a\u308b\u306e\u3067\u3001\u3053\u306e\u3088\u3046\u306a\u975e\u7269\u7406\u7684\u6027\u8cea\u304c\u73fe\u308c\u306a\u3044\u3088\u3046\u306b\u3001x\u3068r\u3092\u533a\u9593$ 0 \\leq x \\leq 1 $\u3001$ 0 \\leq r \\leq 1 $\u306b\u5236\u9650\u3059\u308b\u3053\u3068\u306b\u3059\u308b\u3002"
     ]
    },
    {
     "cell_type": "markdown",
     "metadata": {
      "internals": {
       "frag_number": 5,
       "slide_helper": "subslide_end"
      },
      "slide_helper": "slide_end",
      "slideshow": {
       "slide_type": "fragment"
      }
     },
     "source": [
      "\u5f0f(4)\u3067\u5b9a\u7fa9\u3055\u308c\u308b\u95a2\u6570$f$\u306f1\u6b21\u5143\u306e\u5199\u50cf\u3067\u3042\u308a\u3001\u3053\u306e\u5f62\u306f\u30ed\u30b8\u30b9\u30c6\u30a3\u30c3\u30af\u5199\u50cf\u3068\u3057\u3066\u77e5\u3089\u308c\u3066\u3044\u308b\u3082\u306e\u3067\u3042\u308b\u3002\u30ed\u30b8\u30b9\u30c6\u30a3\u30c3\u30af\u5199\u50cf\u306f\u3001\u7cfb\u306e\u672a\u6765\u306e\u72b6\u614b\u304c\u6c7a\u5b9a\u8ad6\u7684\u306b\u4e0e\u3048\u3089\u308c\u308b\u3068\u3044\u3046\u610f\u5473\u3067\u3001\u5358\u7d14\u306a\u529b\u5b66\u7cfb\u306e\u4f8b\u3067\u3042\u308b\u3002\u672c\u30b7\u30df\u30e5\u30ec\u30fc\u30b7\u30e7\u30f3\u3067\u306f\u5f0f(\\ref{eq:logistic})\u306e\u5dee\u5206\u65b9\u7a0b\u5f0f\u3092\u3001\u4e16\u4ee3\u3054\u3068\u306b\u8a08\u7b97\u3092\u7e70\u308a\u8fd4\u3059\u65b9\u6cd5\u3067\u5b9f\u969b\u306b\u6c42\u3081\u3001\u30ed\u30b8\u30b9\u30c6\u30a3\u30c3\u30af\u5199\u50cf\u306e\u52d5\u7684\u306a\u6027\u8cea\u3092\u8abf\u3079\u308b\u3053\u3068\u306b\u3059\u308b\u3002"
     ]
    },
    {
     "cell_type": "heading",
     "level": 2,
     "metadata": {
      "internals": {
       "frag_helper": "fragment_end",
       "frag_number": 5,
       "slide_helper": "subslide_end",
       "slide_type": "subslide"
      },
      "slide_helper": "subslide_end",
      "slideshow": {
       "slide_type": "slide"
      }
     },
     "source": [
      "\u4f5c\u6210\u3057\u305f\u30d7\u30ed\u30b0\u30e9\u30e0"
     ]
    },
    {
     "cell_type": "markdown",
     "metadata": {
      "internals": {
       "frag_helper": "fragment_end",
       "frag_number": 5,
       "slide_type": "subslide"
      },
      "slideshow": {
       "slide_type": "subslide"
      }
     },
     "source": [
      "6-1_iterate_map.py"
     ]
    },
    {
     "cell_type": "code",
     "collapsed": false,
     "input": [
      "%matplotlib inline\n",
      "import array as array\n",
      "import matplotlib.pyplot as plt\n",
      "from IPython.html.widgets import interact\n",
      "\n",
      "def run(x0=None, r=None, nmax=None):\n",
      "    \n",
      "    @interact(x0=(0.0,1.0, 0.001), r=(0.0,1.0, 0.001), nmax=(0,150))\n",
      "    def mapping(x0=x0, r=r, nmax=nmax):  # \u30b0\u30e9\u30d5\u306e\u63cf\u753b\n",
      "        x = array.array('d')\n",
      "        x.append(x0)\n",
      "        for i in range(0, nmax):\n",
      "            t = 4.0 * r * x[i] * (1 - x[i])\n",
      "            x.append(t)\n",
      "        n = range(nmax + 1)\n",
      "        \n",
      "        if r > 1.0 / 4.0 and r < 3.0 / 4.0:  # \u6f38\u8fd1\u7dda\u306e\u8868\u793a\n",
      "            xfi = 1.0 - 1.0 / (4.0 * r)\n",
      "            plt.plot([0, nmax], [xfi] * 2,\n",
      "                     label=r'$x = 1 - 1 / 4r = $' + str(xfi)\n",
      "                     )\n",
      "            plt.legend(loc=\"best\")    \n",
      "        \n",
      "        plt.gca().set_xlim(0, nmax)\n",
      "        plt.gca().set_ylim(-0.05, 1.0)\n",
      "        plt.xlabel(r'$n$', fontsize=16)\n",
      "        plt.ylabel(r'$x$', fontsize=16)\n",
      "        plt.title('Iterate_map')\n",
      "        plt.legend(loc=\"best\")\n",
      "        plt.plot(n, x,\n",
      "                 label=r'$x_{0}\\ =$' + str(x0) + ' : '\n",
      "                 + r'$r\\ =$' + str(r) + ' : '\n",
      "                 + r'$n_{\\mathrm{max}}\\ =$' + str(nmax)\n",
      "                 )"
     ],
     "language": "python",
     "metadata": {
      "internals": {
       "frag_helper": "fragment_end",
       "frag_number": 8,
       "slide_helper": "subslide_end"
      },
      "slide_helper": "slide_end",
      "slideshow": {
       "slide_type": "fragment"
      }
     },
     "outputs": [],
     "prompt_number": 37
    },
    {
     "cell_type": "heading",
     "level": 2,
     "metadata": {
      "internals": {
       "frag_helper": "fragment_end",
       "frag_number": 8,
       "slide_helper": "subslide_end",
       "slide_type": "subslide"
      },
      "slide_helper": "slide_end",
      "slideshow": {
       "slide_type": "slide"
      }
     },
     "source": [
      "\u5b9f\u7fd2\u8ab2\u984c"
     ]
    },
    {
     "cell_type": "heading",
     "level": 3,
     "metadata": {
      "internals": {
       "frag_helper": "fragment_end",
       "frag_number": 8,
       "slide_type": "subslide"
      },
      "slideshow": {
       "slide_type": "slide"
      }
     },
     "source": [
      "\u554f\u984c a:"
     ]
    },
    {
     "cell_type": "markdown",
     "metadata": {
      "internals": {
       "frag_helper": "fragment_end",
       "frag_number": 11,
       "slide_helper": "subslide_end"
      },
      "slide_helper": "subslide_end",
      "slideshow": {
       "slide_type": "fragment"
      }
     },
     "source": [
      "$r=0.24$\u3068\u304a\u3044\u3066\u3055\u307e\u3056\u307e\u306a\u521d\u671f\u5024$x_{0}$\u306b\u3064\u3044\u3066\u52d5\u7684\u306a\u632f\u308b\u821e\u3044\u3092\u8abf\u3079\u3088\u3002$x=0$\u304c\u5b89\u5b9a\u306a\u56fa\u5b9a\u70b9\u3067\u3042\u308b\u3053\u3068\u3092\u793a\u305b\u3002$r$\u306e\u5024\u304c\u5341\u5206\u306b\u5c0f\u3055\u3044\u3068\u304d\u306b\u306f\u3001\u8a08\u7b97\u3092\u53cd\u5fa9\u3057\u3066\u6c42\u3081\u305f$x$\u306e\u5024\u304c\u3001\u521d\u671f\u5024$x_{0}$\u3068\u306f\u7121\u95a2\u4fc2\u306b$x=0$\u306b\u53ce\u675f\u3059\u308b\u3002$x$\u304c\u6606\u866b\u306e\u500b\u4f53\u6570\u3092\u8868\u3059\u3068\u8003\u3048\u3066\u3001\u500b\u4f53\u6570\u306e\u5b9a\u6027\u7684\u306a\u632f\u308b\u821e\u3044\u306b\u3064\u3044\u3066\u8abf\u3079\u3088\u3002"
     ]
    },
    {
     "cell_type": "code",
     "collapsed": false,
     "input": [
      "run(r=0.24)"
     ],
     "language": "python",
     "metadata": {
      "internals": {
       "frag_helper": "fragment_end",
       "frag_number": 11,
       "slide_type": "subslide"
      },
      "slideshow": {
       "slide_type": "subslide"
      }
     },
     "outputs": [
      {
       "metadata": {},
       "output_type": "display_data",
       "png": "[encoded data removed]",
       "text": [
        "<matplotlib.figure.Figure at 0x7f793d90e850>"
       ]
      }
     ],
     "prompt_number": 38
    },
    {
     "cell_type": "markdown",
     "metadata": {
      "internals": {
       "frag_helper": "fragment_end",
       "frag_number": 13,
       "slide_helper": "subslide_end"
      },
      "slide_helper": "slide_end",
      "slideshow": {
       "slide_type": "fragment"
      }
     },
     "source": [
      "\u3053\u306e\u30b0\u30e9\u30d5\u304b\u3089\u78ba\u304b\u3081\u3089\u308c\u308b\u3088\u3046\u306b\u3001$r$\u306e\u5024\u304c\u5341\u5206\u5c0f\u3055\u3044\u6642\u306b\u306f\u3001\u521d\u671f\u5024\u306b\u3088\u3089\u305a$x$\u306e\u5024\u306f$x=0$\u306b\u5358\u8abf\u306b\u53ce\u675f\u3059\u308b\u3002$x$\u304c\u6606\u866b\u306e\u500b\u4f53\u6570\u3092\u8868\u3059\u3068\u898b\u308b\u306a\u3089\u3001$r$\u306e\u5024\u304c\u5c0f\u3055\u3044\u3068\u3044\u3046\u3053\u3068\u306f\u3001\u500b\u4f53\u6570\u306e\u5897\u52a0\u7387\u304c1\u3088\u308a\u3082\u5c0f\u3055\u304f\u306a\u308b\u72b6\u614b\u3092\u8868\u3057\u3066\u304a\u308a\u3001\u751f\u307e\u308c\u3066\u304f\u308b\u500b\u4f53\u3088\u308a\u3082\u6b7b\u306c\u500b\u4f53\u306e\u307b\u3046\u304c\u591a\u3044\u72b6\u614b\u3068\u3082\u8a00\u3048\u308b\u3060\u308d\u3046\u3002\u305d\u306e\u3088\u3046\u306a\u72b6\u6cc1\u3067\u306f\u3001\u500b\u4f53\u6570\u306f\u6e1b\u308a\u7d9a\u3051\u3001\u3044\u305a\u308c0\u306b\u306a\u308b\u3002"
     ]
    },
    {
     "cell_type": "heading",
     "level": 3,
     "metadata": {
      "internals": {
       "frag_helper": "fragment_end",
       "frag_number": 13,
       "slide_type": "subslide"
      },
      "slideshow": {
       "slide_type": "slide"
      }
     },
     "source": [
      "\u554f\u984c b:"
     ]
    },
    {
     "cell_type": "markdown",
     "metadata": {
      "internals": {
       "frag_helper": "fragment_end",
       "frag_number": 15,
       "slide_helper": "subslide_end"
      },
      "slide_helper": "subslide_end",
      "slideshow": {
       "slide_type": "fragment"
      }
     },
     "source": [
      "\u5f0f()\u306e\u52d5\u7684\u306a\u6027\u8cea\u3092$r=0.26, 0.5, 0.74, 0.748$\u306b\u3064\u3044\u3066\u8abf\u3079\u3088\u3002$r>0.25$\u3067\u306f$x=0$\u304c\u4e0d\u5b89\u5b9a\u306a\u56fa\u5b9a\u70b9\u3067\u3042\u308b\u3053\u3068\u3092\u78ba\u304b\u3081\u3088\u3002\u4e0e\u3048\u3089\u308c\u305f$r$\u306e\u5024\u3067\u306f\u3001\u8a08\u7b97\u306e\u53cd\u5fa9\u3067\u5f97\u3089\u308c\u308b$x$\u306e\u5024\u306f\u521d\u671f\u5024\u306e\u904e\u6e21\u70b9\u3092\u904e\u304e\u308b\u3068\u5909\u5316\u3057\u306a\u3044\u3053\u3068\u3001\u3064\u307e\u308a\u3001\u9577\u6642\u9593\u5f8c\u306e\u52d5\u7684\u306a\u632f\u308b\u821e\u3044\u306f\u5468\u671f1\u3067\u3042\u308b\u3053\u3068\u3092\u793a\u305b\u3002$r<3/4$\u306b\u3064\u3044\u3066\u533a\u9593$0<x_{0}<1$\u306e$x_{0}$\u3092\u521d\u671f\u5024\u3068\u3059\u308b\u3059\u3079\u3066\u306e\u8ecc\u8de1\u304c$x=1-1/4r$\u306e\u30a2\u30c8\u30e9\u30af\u30bf\u306b\u8fd1\u3065\u304f\u3053\u3068\u304c\u793a\u3055\u308c\u3066\u3044\u308b\u3002\u8ecc\u8de1\u304c\u30a2\u30c8\u30e9\u30af\u30bf\u306b\u5438\u3044\u8fbc\u307e\u308c\u308b\u521d\u671f\u5024\u306e\u96c6\u5408\u3092\u305d\u306e\u30a2\u30c8\u30e9\u30af\u30bf\u306e\u5438\u5f15\u57df\u3068\u547c\u3076\u3002\u30ed\u30b8\u30b9\u30c6\u30a3\u30c3\u30af\u5199\u50cf\u3067\u306f\u3001\u9818\u57df$0<x_{0}<1$\u306f$x=1-1/4r$\u306e\u30a2\u30c8\u30e9\u30af\u30bf\u306e\u5438\u5f15\u57df\u3067\u3042\u308b\u3002"
     ]
    },
    {
     "cell_type": "code",
     "collapsed": false,
     "input": [
      "run()"
     ],
     "language": "python",
     "metadata": {
      "internals": {
       "frag_helper": "fragment_end",
       "frag_number": 15,
       "slide_helper": "subslide_end",
       "slide_type": "subslide"
      },
      "slide_helper": "slide_end",
      "slideshow": {
       "slide_type": "subslide"
      }
     },
     "outputs": [
      {
       "metadata": {},
       "output_type": "display_data",
       "png": "[encoded data removed]",
       "text": [
        "<matplotlib.figure.Figure at 0x7f793d5fa3d0>"
       ]
      }
     ],
     "prompt_number": 32
    },
    {
     "cell_type": "heading",
     "level": 3,
     "metadata": {
      "internals": {
       "frag_helper": "fragment_end",
       "frag_number": 15,
       "slide_type": "subslide"
      },
      "slideshow": {
       "slide_type": "slide"
      }
     },
     "source": [
      "\u554f\u984c c:"
     ]
    },
    {
     "cell_type": "markdown",
     "metadata": {
      "internals": {
       "frag_helper": "fragment_end",
       "frag_number": 18,
       "slide_helper": "subslide_end"
      },
      "slide_helper": "subslide_end",
      "slideshow": {
       "slide_type": "fragment"
      }
     },
     "source": [
      "$r=0.752, 0.76, 0.8, 0.862$\u306b\u3064\u3044\u3066\u5f0f(\\ref{eq:logistic})\u306e\u52d5\u7684\u306a\u6027\u8cea\u3092\u8abf\u3079\u3088\u3002$r$\u30920.75\u3088\u308a\u307b\u3093\u306e\u5c11\u3057\u5927\u304d\u304f\u3059\u308b\u3068\u3001\u521d\u671f\u5024\u306e\u904e\u6e21\u7684\u306a\u632f\u308b\u821e\u3044\u306e\u5f8c\u306b\u30012\u3064\u306e\u6570\u5024\u306e\u9593\u3092\u632f\u52d5\u3059\u308b\u3053\u3068\u3092\u793a\u305b\u3002\u3064\u307e\u308a\u3001\u5358\u4e00\u306e\u56fa\u5b9a\u70b9\u306b\u5bfe\u5fdc\u3059\u308b\u5468\u671f1\u306e\u5b89\u5b9a\u306a\u30b5\u30a4\u30af\u30eb\u306e\u4ee3\u308f\u308a\u306b\u3001\u7cfb\u306f\u5468\u671f2\u306e\u5b89\u5b9a\u306a\u30b5\u30a4\u30af\u30eb\u3092\u6301\u3064\u3088\u3046\u306b\u306a\u308b\u30021\u3064\u306e\u56fa\u5b9a\u70b9$x^{*}$\u304c2\u3064\u306e$x_{1}^{*}$\u3068$x_{2}^{*}$\u306b\u5206\u304b\u308c\u308b\u3002\u3064\u307e\u308a\u3001\u5206\u5c90\u3059\u308b$r$\u306e\u5024\u306f$r=b_{1}=3/4$\u3067\u3042\u308b\u30021\u5bfe\u306e$x$($x_{1}^{*}$\u3068$x_{2}^{*}$)\u306f1\u3064\u306e\u3001\u5468\u671f2\u306e\u5b89\u5b9a\u306a\u30a2\u30c8\u30e9\u30af\u30bf\u3092\u5f62\u6210\u3059\u308b\u3002"
     ]
    },
    {
     "cell_type": "code",
     "collapsed": false,
     "input": [
      "run(r=0.752)"
     ],
     "language": "python",
     "metadata": {
      "internals": {
       "frag_helper": "fragment_end",
       "frag_number": 18,
       "slide_helper": "subslide_end",
       "slide_type": "subslide"
      },
      "slide_helper": "slide_end",
      "slideshow": {
       "slide_type": "subslide"
      }
     },
     "outputs": [
      {
       "metadata": {},
       "output_type": "display_data",
       "png": "[encoded data removed]",
       "text": [
        "<matplotlib.figure.Figure at 0x7f793d96e510>"
       ]
      }
     ],
     "prompt_number": 33
    },
    {
     "cell_type": "heading",
     "level": 3,
     "metadata": {
      "internals": {
       "frag_helper": "fragment_end",
       "frag_number": 18,
       "slide_type": "subslide"
      },
      "slideshow": {
       "slide_type": "slide"
      }
     },
     "source": [
      "\u554f\u984c d:"
     ]
    },
    {
     "cell_type": "markdown",
     "metadata": {
      "internals": {
       "frag_helper": "fragment_end",
       "frag_number": 21,
       "slide_helper": "subslide_end"
      },
      "slide_helper": "subslide_end",
      "slideshow": {
       "slide_type": "fragment"
      }
     },
     "source": [
      "\u8a2d\u554fc\u3067\u89b3\u6e2c\u3057\u305f\u3082\u306e\u3068\u540c\u69d8\u306a\u52d5\u7684\u632f\u308b\u821e\u3044\u3092\u793a\u3059\u3001\u6606\u866b\u306e\u500b\u4f53\u6570\u306e\u751f\u614b\u5b66\u7684\u306a\u30b7\u30ca\u30ea\u30aa\u306b\u3064\u3044\u3066\u8ff0\u3079\u3088\u3002"
     ]
    },
    {
     "cell_type": "markdown",
     "metadata": {
      "internals": {
       "frag_helper": "fragment_end",
       "frag_number": 21,
       "slide_helper": "subslide_end",
       "slide_type": "subslide"
      },
      "slide_helper": "slide_end",
      "slideshow": {
       "slide_type": "subslide"
      }
     },
     "source": [
      "\u8a2d\u554fc\u3067\u89b3\u6e2c\u3055\u308c\u305f\u3088\u3046\u306a\u52d5\u7684\u306a\u632f\u308b\u821e\u3044\u306f\u3001\u3042\u308b\u6606\u866b\u304c\u3001\u9650\u3089\u308c\u305f\u74b0\u5883\u306e\u4e2d\u3067\u6210\u9577\u7387\u304c\u5341\u5206\u306b\u3042\u308b\u305f\u3081\u306b\u500b\u4f53\u6570\u304c\u5897\u3048\u3066\u3044\u304d\u3001\u3057\u304b\u3057\u4e00\u65b9\u3067\u500b\u4f53\u6570\u306e\u5897\u52a0\u306b\u3088\u308b\u5404\u7a2e\u8cc7\u6e90\u306e\u67af\u6e07\u306a\u3069\u3001\u6210\u9577\u7387\u3078\u306e\u8ca0\u306e\u5f71\u97ff\u306e\u305f\u3081\u306b\u3001\u500b\u4f53\u6570\u3092\u5897\u3084\u3057\u7d9a\u3051\u308b\u3053\u3068\u304c\u3067\u304d\u305a\u3001\u6b21\u306e\u4e16\u4ee3\u3067\u306f\u305d\u306e\u6570\u304c\u6e1b\u5c11\u3057\u3066\u3057\u307e\u3046\u3088\u3046\u306a\u5834\u5408\u3067\u3042\u308b\u3068\u8003\u3048\u308b\u3053\u3068\u304c\u3067\u304d\u308b\u3002"
     ]
    },
    {
     "cell_type": "heading",
     "level": 3,
     "metadata": {
      "internals": {
       "frag_helper": "fragment_end",
       "frag_number": 21,
       "slide_type": "subslide"
      },
      "slideshow": {
       "slide_type": "slide"
      }
     },
     "source": [
      "\u554f\u984c e:"
     ]
    },
    {
     "cell_type": "markdown",
     "metadata": {
      "internals": {
       "frag_helper": "fragment_end",
       "frag_number": 24,
       "slide_helper": "subslide_end"
      },
      "slide_helper": "subslide_end",
      "slideshow": {
       "slide_type": "fragment"
      }
     },
     "source": [
      "$r=0.863, 0.88$\u3067\u306f\u3001\u5f0f(\\ref{eq:logistic})\u306e\u5b89\u5b9a\u306a\u30a2\u30c8\u30e9\u30af\u30bf\u3068\u305d\u306e\u5468\u671f\u306f\u3069\u3046\u306a\u308b\u304b\u3002"
     ]
    },
    {
     "cell_type": "code",
     "collapsed": false,
     "input": [
      "run(r=0.863)"
     ],
     "language": "python",
     "metadata": {
      "internals": {
       "frag_helper": "fragment_end",
       "frag_number": 24,
       "slide_type": "subslide"
      },
      "slideshow": {
       "slide_type": "subslide"
      }
     },
     "outputs": [
      {
       "metadata": {},
       "output_type": "display_data",
       "png": "[encoded data removed]",
       "text": [
        "<matplotlib.figure.Figure at 0x7f793d952810>"
       ]
      }
     ],
     "prompt_number": 34
    },
    {
     "cell_type": "markdown",
     "metadata": {
      "internals": {
       "frag_helper": "fragment_end",
       "frag_number": 26,
       "slide_helper": "subslide_end"
      },
      "slide_helper": "slide_end",
      "slideshow": {
       "slide_type": "fragment"
      }
     },
     "source": [
      "\u30b0\u30e9\u30d5\u3092\u6ce8\u610f\u6df1\u304f\u898b\u308b\u3068\u3001\u8a2d\u554fc\u306e\u3088\u3046\u306b\u5468\u671f2\u3067\u632f\u52d5\u3057\u3066\u3044\u308b\u306e\u3067\u306f\u306a\u304f\u3001\u305d\u306e\u4e8c\u3064\u306e\u30a2\u30c8\u30e9\u30af\u30bf\u304c\u3055\u3089\u306b\u4e8c\u3064\u306e\u30a2\u30c8\u30e9\u30af\u30bf\u306b\u5206\u5c90\u3057\u3066\u3044\u308b\u3053\u3068\u304c\u308f\u304b\u308b\u3002\u3064\u307e\u308a\u3001\u5341\u5206\u6642\u9593\u304c\u7d4c\u3063\u305f\u306e\u3061\u306b\u3001$x$\u306f\u5468\u671f4\u3067\u632f\u52d5\u3057\u3066\u3044\u308b\u3002"
     ]
    },
    {
     "cell_type": "heading",
     "level": 3,
     "metadata": {
      "internals": {
       "frag_helper": "fragment_end",
       "frag_number": 26,
       "slide_type": "subslide"
      },
      "slideshow": {
       "slide_type": "slide"
      }
     },
     "source": [
      "\u554f\u984c f:"
     ]
    },
    {
     "cell_type": "markdown",
     "metadata": {
      "internals": {
       "frag_helper": "fragment_end",
       "frag_number": 28,
       "slide_helper": "subslide_end"
      },
      "slide_helper": "subslide_end",
      "slideshow": {
       "slide_type": "fragment"
      }
     },
     "source": [
      "$r=0.89, 0.891, 0.8922$\u3067\u306f\u30a2\u30c8\u30e9\u30af\u30bf\u3068\u305d\u306e\u5468\u671f\u306f\u3069\u3046\u306a\u308b\u304b\u3002"
     ]
    },
    {
     "cell_type": "code",
     "collapsed": false,
     "input": [
      "run(r=0.89)"
     ],
     "language": "python",
     "metadata": {
      "internals": {
       "frag_helper": "fragment_end",
       "frag_number": 28,
       "slide_type": "subslide"
      },
      "slideshow": {
       "slide_type": "subslide"
      }
     },
     "outputs": [
      {
       "metadata": {},
       "output_type": "display_data",
       "png": "[encoded data removed]",
       "text": [
        "<matplotlib.figure.Figure at 0x7f793d5ca5d0>"
       ]
      }
     ],
     "prompt_number": 35
    },
    {
     "cell_type": "markdown",
     "metadata": {
      "internals": {
       "frag_helper": "fragment_end",
       "frag_number": 30,
       "slide_helper": "subslide_end"
      },
      "slide_helper": "slide_end",
      "slideshow": {
       "slide_type": "fragment"
      }
     },
     "source": [
      "\u30b0\u30e9\u30d5\u306f\u3001\u8a2d\u554fe\u3067\u306e\u30a2\u30c8\u30e9\u30af\u30bf\u304c\u305d\u308c\u305e\u308c\u3055\u3089\u306b\u4e8c\u3064\u306e\u30a2\u30c8\u30e9\u30af\u30bf\u306b\u5206\u5c90\u3057\u3066\u3044\u308b\u3082\u306e\u3067\u3042\u308b\u3053\u3068\u304c\u308f\u304b\u308b\u3002\u3064\u307e\u308a\u3001\u5341\u5206\u6642\u9593\u304c\u7d4c\u3063\u305f\u306e\u3061\u306b\u3001$x$\u306f\u5468\u671f8\u3067\u632f\u52d5\u3057\u3066\u3044\u308b\u3002\u4ee5\u4e0a\u306e\u7d50\u679c\u304b\u3089\u3001\u7279\u306b\u89b3\u6e2c\u3057\u305f$r$\u306e\u9818\u57df\u306b\u3064\u3044\u3066\u306f\u3001$r$\u306e\u5024\u304c\u5897\u52a0\u3059\u308b\u306b\u3064\u308c\u3066\u3001\u30a2\u30c8\u30e9\u30af\u30bf\u306e\u6570\u3001\u307e\u305f\u306f\u632f\u52d5\u306e\u5468\u671f\u304c\u500d\u5316\u3057\u3066\u3044\u308b\u3053\u3068\u304c\u308f\u304b\u308b\u3002"
     ]
    },
    {
     "cell_type": "heading",
     "level": 2,
     "metadata": {
      "internals": {
       "frag_helper": "fragment_end",
       "frag_number": 30,
       "slide_type": "subslide"
      },
      "slideshow": {
       "slide_type": "slide"
      }
     },
     "source": [
      "\u307e\u3068\u3081"
     ]
    },
    {
     "cell_type": "markdown",
     "metadata": {
      "internals": {
       "frag_helper": "fragment_end",
       "frag_number": 32,
       "slide_helper": "subslide_end"
      },
      "slide_helper": "slide_end",
      "slideshow": {
       "slide_type": "fragment"
      }
     },
     "source": [
      "\u30ed\u30b8\u30b9\u30c6\u30a3\u30c3\u30af\u5199\u50cf\u306e\u6027\u8cea\u3067\u3042\u308b\u5468\u671f\u500d\u5316\u3092\u3001\u30b3\u30f3\u30d4\u30e5\u30fc\u30bf\u30fc\u30b7\u30df\u30e5\u30ec\u30fc\u30b7\u30e7\u30f3\u306b\u3088\u3063\u3066\u78ba\u8a8d\u3059\u308b\u3053\u3068\u304c\u3067\u304d\u305f\u3002\u7c21\u5358\u306a\u30e2\u30c7\u30eb\u304b\u3089\u4f5c\u3089\u308c\u305f\u53e4\u5178\u7684\u306a\u65b9\u7a0b\u5f0f\u304b\u3089\u30ab\u30aa\u30b9\u7684\u306a\u6319\u52d5\u304c\u751f\u307e\u308c\u308b\u3053\u3068\u306f\u8208\u5473\u6df1\u3044\u3002"
     ]
    },
    {
     "cell_type": "heading",
     "level": 2,
     "metadata": {
      "internals": {
       "frag_helper": "fragment_end",
       "frag_number": 32,
       "slide_type": "subslide"
      },
      "slideshow": {
       "slide_type": "slide"
      }
     },
     "source": [
      "\u53c2\u8003\u6587\u732e"
     ]
    },
    {
     "cell_type": "markdown",
     "metadata": {
      "internals": {
       "frag_helper": "fragment_end",
       "frag_number": 32,
       "slide_helper": "subslide_end"
      },
      "slide_helper": "slide_end",
      "slideshow": {
       "slide_type": "-"
      }
     },
     "source": [
      "- \u30cf\u30fc\u30d9\u30a4\u30fb\u30b4\u30fc\u30eb\u30c9,\u30b8\u30e3\u30f3\u30fb\u30c8\u30dc\u30c1\u30cb\u30af,\u77f3\u5ddd\u6b63\u52dd\u30fb\u5bae\u5cf6\u4f50\u4ecb\u8a33\u300e\u8a08\u7b97\u7269\u7406\u5b66\u5165\u9580\u300f,\u30d4\u30a2\u30bd\u30f3\u30fb\u30a8\u30c7\u30e5\u30b1\u30fc\u30b7\u30e7\u30f3, 2000."
     ]
    }
   ],
   "metadata": {}
  }
 ]
}